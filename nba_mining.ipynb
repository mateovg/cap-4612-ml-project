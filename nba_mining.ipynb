{
 "cells": [
  {
   "cell_type": "markdown",
   "metadata": {},
   "source": [
    "# Data mining and cleaning"
   ]
  },
  {
   "cell_type": "markdown",
   "metadata": {},
   "source": [
    "Almost all the data is from the KAGGLE database which is a SQLite database. Here we will be cleaning the data a bit and creating our own table with all the relevant information we will want for the model.\n",
    "\n",
    "After initially loading the data from a SQLite3 file, we export the relevant table to a .csv file, removing the need to keep the 2gb database file.\n",
    "\n",
    "https://github.com/wyattowalsh/nba-db"
   ]
  },
  {
   "cell_type": "code",
   "execution_count": 37,
   "metadata": {},
   "outputs": [],
   "source": [
    "import pandas as pd\n",
    "from matplotlib import pyplot as plt"
   ]
  },
  {
   "cell_type": "code",
   "execution_count": 38,
   "metadata": {},
   "outputs": [],
   "source": [
    "# import sqlite3\n",
    "\n",
    "# connection = sqlite3.connect('data/nba.sqlite')\n",
    "# cursor = connection.cursor()\n",
    "\n",
    "# cursor.execute('DROP TABLE IF EXISTS play_by_play')\n",
    "# games = pd.read_sql('SELECT * FROM game WHERE season_type = \"Regular Season\"', connection)\n",
    "# export = games.to_csv('data/games.csv', index=False)\n",
    "\n",
    "games = pd.read_csv('data/games.csv')\n",
    "\n",
    "games.head()\n",
    "\n",
    "# convert date to datetime\n",
    "games['game_date'] = pd.to_datetime(games['game_date'])\n",
    "\n",
    "# change wl_home to 1 if home team won, 0 if home team lost\n",
    "games['wl_home'] = games['wl_home'].apply(lambda x: 1 if x == 'W' else 0)\n",
    "games.rename(columns={'wl_home': 'target'}, inplace=True)\n",
    "\n",
    "# drop columns that won't be used\n",
    "drop_cols = ['matchup_home', 'matchup_away', 'min', 'video_available_home', 'video_available_away', 'wl_away', 'season_type']\n",
    "games = games.drop(columns=drop_cols).copy()"
   ]
  },
  {
   "cell_type": "markdown",
   "metadata": {},
   "source": [
    "Some columns have NaN, specially from much earlier games. We will drop these rows later but for now we need all game data for calculating elo ratings.\n",
    "\n",
    "Since I'm a huge fan of statistics and basketball, I took the opportunity to research elo rankings and specifically how FiveThirtyEight does their own rankings for the NBA. Using https://fivethirtyeight.com/features/how-we-calculate-nba-elo-ratings/ article and sources linked in it, I recreated their rankings. The reason for this being, elo rankings are a very strong indicator of expected performance. They even predict a margin of victory and adjust according to the margin and not only the binary outcome. The function below will create a new feature for each game with the home and away's team ELO rankings before the match."
   ]
  },
  {
   "cell_type": "markdown",
   "metadata": {},
   "source": [
    "## FiveThirtyEight's Algorithm\n",
    "\n",
    "Initial elo rating for teams is $1300$. Elo ratings are updated as follows:\n",
    "$$ R_{i+1} = K(S_{\\text{team}} - E_{\\text{team}})R_i $$\n",
    "$$ E_{\\text{team}} = \\frac{1}{1 + 10 ^ {(\\text{opp\\_elo}-\\text{team\\_elo}) / 400}} $$\n",
    "$$ K = 20 \\frac{(\\text{MOV}_{\\text{winner}} + 3) ^ {0.8}}{7.5+0.006(\\text{elo\\_diff}_\\text{winner})} $$\n",
    "\n",
    "Elo decays between seasons as follows:\n",
    "$$ R_{s = i+1} = (0.75)R_{s=i} + (0.25)1505 $$\n"
   ]
  },
  {
   "cell_type": "code",
   "execution_count": 39,
   "metadata": {},
   "outputs": [],
   "source": [
    "# functions to calculate each part of the elo formula\n",
    "\n",
    "def find_K(MOV, elo_diff):\n",
    "    # positive MOV means home team won\n",
    "    K_0 = 20\n",
    "    if MOV > 0:\n",
    "        multiplier = (MOV + 3) ** 0.8 / (7.5 + 0.006 * elo_diff)\n",
    "    else:\n",
    "        multiplier = (-MOV + 3) ** 0.8 / (7.5 + 0.006 * -elo_diff)\n",
    "    # returns two values, one for each team\n",
    "    return K_0 * multiplier, K_0 * multiplier\n",
    "\n",
    "def find_S(MOV):\n",
    "    if MOV > 0: # home team won\n",
    "        return 1, 0\n",
    "    elif MOV < 0: # home team lost\n",
    "        return 0, 1\n",
    "    else:  return 0.5, 0.5 # tie\n",
    "\n",
    "def find_E(elo_home, elo_away):\n",
    "    home_adv = 100\n",
    "    elo_home += home_adv\n",
    "\n",
    "    E_home = 1 / (1 + 10 ** ((elo_away - elo_home) / 400.0))\n",
    "    E_away = 1 / (1 + 10 ** ((elo_home - elo_away) / 400.0))\n",
    "\n",
    "    return E_home, E_away\n",
    "\n",
    "def find_new_elo(elo_home, elo_away, MOV):\n",
    "    elo_diff = elo_home - elo_away\n",
    "    K_home, K_away = find_K(MOV, elo_diff)\n",
    "    S_home, S_away = find_S(MOV)\n",
    "    E_home, E_away = find_E(elo_home, elo_away)\n",
    "\n",
    "    elo_home = elo_home + K_home * (S_home - E_home)\n",
    "    elo_away = elo_away + K_away * (S_away - E_away)\n",
    "\n",
    "    return elo_home, elo_away\n",
    "\n",
    "def find_decay_elo(elo):\n",
    "    return elo * 0.75 + 1505 * 0.25"
   ]
  },
  {
   "cell_type": "code",
   "execution_count": 40,
   "metadata": {},
   "outputs": [],
   "source": [
    "# create a dictionary to store the elo ratings for each team\n",
    "elo_dict = {}\n",
    "starting_elo = 1300\n",
    "\n",
    "# initialize elo ratings for each team to 1500\n",
    "# should be 1300 but 1500 worked better to match my ratings with 538's\n",
    "for team in games['team_name_home'].unique():\n",
    "    elo_dict[team] = starting_elo\n",
    "\n",
    "# create a new column for the elo rating of each team\n",
    "games['elo_home'] = starting_elo\n",
    "games['elo_away'] = starting_elo\n",
    "start_season = games['season_id'].iloc[0]\n",
    "current_season = start_season\n",
    "\n",
    "# loop through each game and calculate the new elo rating for each team\n",
    "# each row should have the elo rating BEFORE the game\n",
    "def find_elo_ratings(season):\n",
    "    for index, row in season.iterrows():\n",
    "        home_team = row['team_name_home']\n",
    "        away_team = row['team_name_away']\n",
    "\n",
    "        elo_home = elo_dict[home_team]\n",
    "        elo_away = elo_dict[away_team]\n",
    "\n",
    "        season.loc[index, 'elo_home'] = elo_home\n",
    "        season.loc[index, 'elo_away'] = elo_away\n",
    "\n",
    "        MOV = row['plus_minus_home']\n",
    "        \n",
    "        elo_home_new, elo_away_new = find_new_elo(elo_home, elo_away, MOV)\n",
    "\n",
    "        elo_dict[home_team] = elo_home_new\n",
    "        elo_dict[away_team] = elo_away_new\n",
    "\n",
    "# loop through each season and calculate the elo ratings for each game\n",
    "# if it's not the first season, decay the elo ratings\n",
    "seasons = games['season_id'].unique()\n",
    "for season in seasons:\n",
    "    # decay elo ratings\n",
    "    if season != start_season:\n",
    "        for team in elo_dict:\n",
    "            elo_dict[team] = find_decay_elo(elo_dict[team])\n",
    "    season_games = games[games['season_id'] == season]\n",
    "    find_elo_ratings(season_games)\n",
    "    games[games['season_id'] == season] = season_games\n"
   ]
  },
  {
   "cell_type": "code",
   "execution_count": 41,
   "metadata": {},
   "outputs": [
    {
     "name": "stdout",
     "output_type": "stream",
     "text": [
      "GSW 1811.962467263941\n"
     ]
    },
    {
     "data": {
      "text/plain": [
       "count    60192.000000\n",
       "mean      1504.499451\n",
       "std        102.999938\n",
       "min       1128.144642\n",
       "25%       1433.964340\n",
       "50%       1508.927090\n",
       "75%       1577.946068\n",
       "max       1811.962467\n",
       "Name: elo_home, dtype: float64"
      ]
     },
     "execution_count": 41,
     "metadata": {},
     "output_type": "execute_result"
    }
   ],
   "source": [
    "# find what team had the max elo\n",
    "max_elo = games['elo_home'].max()\n",
    "team_max_elo = games[games['elo_home'] == max_elo]['team_abbreviation_home'].iloc[0]\n",
    "print(team_max_elo + \" \" + str(max_elo))\n",
    "games['elo_home'].describe()"
   ]
  },
  {
   "cell_type": "markdown",
   "metadata": {},
   "source": [
    "FiveThiryEight's model has Chicago Bulls at 1853 as the highest elo rating ever achieved, so our recreation is fairly similar."
   ]
  },
  {
   "cell_type": "markdown",
   "metadata": {},
   "source": [
    "In order for the model to predict the outcome of the game, we must only use data that was available before the game was played.\n",
    "\n",
    "Due to this reason, we have to use previous games results as features. Using only the last game to predict the current one might not make for a good model due to variance game-to-game. So we will calculate a rolling average of previous games, along with the elo rating, as features for the model.\n",
    "\n",
    "Each row represents a "
   ]
  },
  {
   "cell_type": "code",
   "execution_count": 42,
   "metadata": {},
   "outputs": [],
   "source": [
    "# drop rows with missing values, older games without data for 3pt, etc\n",
    "games.dropna(inplace=True)\n",
    "\n",
    "games.sort_values(by='game_date', inplace=True)\n",
    "games.reset_index(drop=True, inplace=True)\n",
    "\n",
    "cols = games.columns\n",
    "home_cols = [col for col in cols if 'away' not in col]\n",
    "away_cols = [col for col in cols if 'home' not in col]\n",
    "\n",
    "games_home = games[home_cols]\n",
    "games_away = games[away_cols]\n",
    "\n",
    "games_home.columns = [col.replace('_home', '') for col in games_home.columns]\n",
    "games_away.columns = [col.replace('_away', '') for col in games_away.columns]"
   ]
  },
  {
   "cell_type": "code",
   "execution_count": 43,
   "metadata": {},
   "outputs": [
    {
     "name": "stderr",
     "output_type": "stream",
     "text": [
      "C:\\Users\\Mateo\\AppData\\Local\\Temp\\ipykernel_25096\\3338591556.py:6: SettingWithCopyWarning: \n",
      "A value is trying to be set on a copy of a slice from a DataFrame\n",
      "\n",
      "See the caveats in the documentation: https://pandas.pydata.org/pandas-docs/stable/user_guide/indexing.html#returning-a-view-versus-a-copy\n",
      "  df.sort_values(by='game_date', inplace=True)\n"
     ]
    }
   ],
   "source": [
    "def calculate_rolling(df, num_games):\n",
    "    ignored_cols = ['season_id', 'team_id', 'team_abbreviation', 'team_name', 'game_id',\n",
    "       'game_date', 'target', 'elo']\n",
    "\n",
    "    # make sure the columns are in the correct order\n",
    "    df.sort_values(by='game_date', inplace=True)\n",
    "\n",
    "    for col in df.columns:\n",
    "        if col not in ignored_cols:\n",
    "            # replace the column with the rolling average\n",
    "            df.loc[:, col] = df[col].rolling(num_games, min_periods = 2).mean().round(decimals=2)\n",
    "            # # rename the column to indicate it's a rolling average\n",
    "            # df.rename(columns={col: col + '_rolling_' + str(num_games)}, inplace=True)\n",
    "    \n",
    "    return df\n",
    "\n",
    "games_home_rolling = calculate_rolling(games_home, 10)\n",
    "games_away_rolling = calculate_rolling(games_away, 10)"
   ]
  },
  {
   "cell_type": "code",
   "execution_count": 44,
   "metadata": {},
   "outputs": [],
   "source": [
    "# now we rejoin the home and away dataframes on the game_id\n",
    "games_rolling = games_home_rolling.merge(games_away_rolling, on=['game_id', 'season_id', 'game_date'], suffixes=('_home', '_away'))\n",
    "\n",
    "# rename the target column to be the target for the home team\n",
    "games_rolling.rename(columns={'target_home': 'wl_home'}, inplace=True)\n",
    "games_rolling.rename(columns={'target_away': 'wl_away'}, inplace=True)\n",
    "\n",
    "# drop na values\n",
    "games_rolling.dropna(inplace=True)"
   ]
  },
  {
   "cell_type": "markdown",
   "metadata": {},
   "source": [
    "## Exporting data\n",
    "\n",
    "Finally, our data is ready to be processed by the different models."
   ]
  },
  {
   "cell_type": "code",
   "execution_count": 45,
   "metadata": {},
   "outputs": [],
   "source": [
    "# export data to a csv file\n",
    "games_rolling.to_csv('data/games_rolling.csv', index=False)"
   ]
  }
 ],
 "metadata": {
  "kernelspec": {
   "display_name": "base",
   "language": "python",
   "name": "python3"
  },
  "language_info": {
   "codemirror_mode": {
    "name": "ipython",
    "version": 3
   },
   "file_extension": ".py",
   "mimetype": "text/x-python",
   "name": "python",
   "nbconvert_exporter": "python",
   "pygments_lexer": "ipython3",
   "version": "3.11.4"
  },
  "orig_nbformat": 4
 },
 "nbformat": 4,
 "nbformat_minor": 2
}
